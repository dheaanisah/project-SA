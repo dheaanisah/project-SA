{
  "nbformat": 4,
  "nbformat_minor": 0,
  "metadata": {
    "colab": {
      "provenance": []
    },
    "kernelspec": {
      "name": "python3",
      "display_name": "Python 3"
    },
    "language_info": {
      "name": "python"
    }
  },
  "cells": [
    {
      "cell_type": "code",
      "execution_count": null,
      "metadata": {
        "id": "RPHLLmBzV5ao"
      },
      "outputs": [],
      "source": [
        "!pip install gradio"
      ]
    },
    {
      "cell_type": "markdown",
      "source": [
        "Sumber dataset :\n",
        "\n",
        " https://www.kaggle.com/datasets/joebeachcapital/qs-world-university-rankings-2024/data"
      ],
      "metadata": {
        "id": "MFHVD60aiKP3"
      }
    },
    {
      "cell_type": "code",
      "source": [
        "from google.colab import drive\n",
        "drive.mount('/content/drive')"
      ],
      "metadata": {
        "colab": {
          "base_uri": "https://localhost:8080/"
        },
        "id": "utENpRFTXmu5",
        "outputId": "4f306673-9247-4649-c4d3-db6f6faef845"
      },
      "execution_count": 3,
      "outputs": [
        {
          "output_type": "stream",
          "name": "stdout",
          "text": [
            "Drive already mounted at /content/drive; to attempt to forcibly remount, call drive.mount(\"/content/drive\", force_remount=True).\n"
          ]
        }
      ]
    },
    {
      "cell_type": "code",
      "source": [
        "%cd 'drive/MyDrive/Colab Notebooks/dataset'"
      ],
      "metadata": {
        "colab": {
          "base_uri": "https://localhost:8080/"
        },
        "id": "pKAPv5kuYZD1",
        "outputId": "a662cadb-9842-49d5-b084-b6ff3a445378"
      },
      "execution_count": 4,
      "outputs": [
        {
          "output_type": "stream",
          "name": "stdout",
          "text": [
            "/content/drive/MyDrive/Colab Notebooks/dataset\n"
          ]
        }
      ]
    },
    {
      "cell_type": "code",
      "source": [
        "# World_University_rankings_dataset\n",
        "import pandas as pd\n",
        "\n",
        "# Load the dataset\n",
        "df = pd.read_csv(\"dataset.csv\")\n",
        "\n",
        "# Tampilkan beberapa baris pertama dataset\n",
        "print(df.head())"
      ],
      "metadata": {
        "colab": {
          "base_uri": "https://localhost:8080/"
        },
        "id": "KVxGu84MWQOK",
        "outputId": "80abbbee-a2d8-41b7-a954-547644ec3e8f"
      },
      "execution_count": 5,
      "outputs": [
        {
          "output_type": "stream",
          "name": "stdout",
          "text": [
            "      2024 RANK      2023 RANK                              Institution Name  \\\n",
            "0  rank display  rank display2                                   institution   \n",
            "1             1              1  Massachusetts Institute of Technology (MIT)    \n",
            "2             2              2                       University of Cambridge   \n",
            "3             3              4                          University of Oxford   \n",
            "4             4              5                            Harvard University   \n",
            "\n",
            "    Country Code         Country  SIZE  FOCUS      RES.       AGE  STATUS  \\\n",
            "0  location code        location  size  focus  research  age band  status   \n",
            "1             US   United States     M     CO        VH         5       B   \n",
            "2             UK  United Kingdom     L     FC        VH         5       A   \n",
            "3             UK  United Kingdom     L     FC        VH         5       A   \n",
            "4             US   United States     L     FC        VH         5       B   \n",
            "\n",
            "   ... International Faculty Rank International Students Score  \\\n",
            "0  ...                   ifr rank                    isr score   \n",
            "1  ...                         56                         88.2   \n",
            "2  ...                         64                         95.8   \n",
            "3  ...                        110                         98.2   \n",
            "4  ...                        210                         66.8   \n",
            "\n",
            "  International Students Rank International Research Network Score  \\\n",
            "0                    isr rank                            irn score   \n",
            "1                         128                                 94.3   \n",
            "2                          85                                 99.9   \n",
            "3                          60                                100.0   \n",
            "4                         223                                100.0   \n",
            "\n",
            "  International Research Network Rank Employment Outcomes Score  \\\n",
            "0                            irn rank                 ger score   \n",
            "1                                  58                       100   \n",
            "2                                   7                       100   \n",
            "3                                   1                       100   \n",
            "4                                   5                       100   \n",
            "\n",
            "  Employment Outcomes Rank Sustainability Score Sustainability Rank  \\\n",
            "0                 ger rank            SUS SCORE            SUS RANK   \n",
            "1                        4                 95.2                  51   \n",
            "2                        6                 97.3                 33=   \n",
            "3                        3                 97.8                 26=   \n",
            "4                        1                 96.7                  39   \n",
            "\n",
            "   Overall SCORE  \n",
            "0  Overall Score  \n",
            "1          100.0  \n",
            "2           99.2  \n",
            "3           98.9  \n",
            "4           98.3  \n",
            "\n",
            "[5 rows x 29 columns]\n"
          ]
        }
      ]
    },
    {
      "cell_type": "code",
      "source": [
        "df.info()"
      ],
      "metadata": {
        "colab": {
          "base_uri": "https://localhost:8080/"
        },
        "id": "DAlmEhPoYtMc",
        "outputId": "c014a084-f684-41a8-cc56-aad0ea10d37c"
      },
      "execution_count": 6,
      "outputs": [
        {
          "output_type": "stream",
          "name": "stdout",
          "text": [
            "<class 'pandas.core.frame.DataFrame'>\n",
            "RangeIndex: 1498 entries, 0 to 1497\n",
            "Data columns (total 29 columns):\n",
            " #   Column                                Non-Null Count  Dtype \n",
            "---  ------                                --------------  ----- \n",
            " 0   2024 RANK                             1498 non-null   object\n",
            " 1   2023 RANK                             1416 non-null   object\n",
            " 2   Institution Name                      1498 non-null   object\n",
            " 3   Country Code                          1498 non-null   object\n",
            " 4   Country                               1498 non-null   object\n",
            " 5   SIZE                                  1475 non-null   object\n",
            " 6   FOCUS                                 1497 non-null   object\n",
            " 7   RES.                                  1411 non-null   object\n",
            " 8   AGE                                   1472 non-null   object\n",
            " 9   STATUS                                1456 non-null   object\n",
            " 10  Academic Reputation Score             1498 non-null   object\n",
            " 11  Academic Reputation Rank              1498 non-null   object\n",
            " 12  Employer Reputation Score             1497 non-null   object\n",
            " 13  Employer Reputation Rank              1497 non-null   object\n",
            " 14  Faculty Student Score                 1474 non-null   object\n",
            " 15  Faculty Student Rank                  1474 non-null   object\n",
            " 16  Citations per Faculty Score           1474 non-null   object\n",
            " 17  Citations per Faculty Rank            1474 non-null   object\n",
            " 18  International Faculty Score           1372 non-null   object\n",
            " 19  International Faculty Rank            1372 non-null   object\n",
            " 20  International Students Score          1418 non-null   object\n",
            " 21  International Students Rank           1418 non-null   object\n",
            " 22  International Research Network Score  1494 non-null   object\n",
            " 23  International Research Network Rank   1494 non-null   object\n",
            " 24  Employment Outcomes Score             1474 non-null   object\n",
            " 25  Employment Outcomes Rank              1474 non-null   object\n",
            " 26  Sustainability Score                  1398 non-null   object\n",
            " 27  Sustainability Rank                   1398 non-null   object\n",
            " 28  Overall SCORE                         1498 non-null   object\n",
            "dtypes: object(29)\n",
            "memory usage: 339.5+ KB\n"
          ]
        }
      ]
    },
    {
      "cell_type": "code",
      "source": [
        "# Ubah kolom '2024 RANK' menjadi numerik dan urutkan berdasarkan kolom tersebut\n",
        "df['2024 RANK'] = pd.to_numeric(df['2024 RANK'], errors='coerce')\n",
        "df = df.dropna(subset=['2024 RANK']).sort_values(by='2024 RANK').reset_index(drop=True)"
      ],
      "metadata": {
        "id": "LUv_PK67YyPp"
      },
      "execution_count": 7,
      "outputs": []
    },
    {
      "cell_type": "code",
      "source": [
        "def binary_search(arr, target):\n",
        "    low, high = 0, len(arr) - 1\n",
        "    while low <= high:\n",
        "        mid = (low + high) // 2\n",
        "        if arr[mid] == target:\n",
        "            return mid\n",
        "        elif arr[mid] < target:\n",
        "            low = mid + 1\n",
        "        else:\n",
        "            high = mid - 1\n",
        "    return -1"
      ],
      "metadata": {
        "id": "z12oTNTeY44m"
      },
      "execution_count": 8,
      "outputs": []
    },
    {
      "cell_type": "code",
      "source": [
        "def find_university_by_rank(target_rank):\n",
        "    ranks = df['2024 RANK'].astype(int).tolist()\n",
        "    index = binary_search(ranks, int(target_rank))\n",
        "\n",
        "    if index != -1:\n",
        "        university_info = df.iloc[index]\n",
        "        result = {\n",
        "            \"University Name\": university_info['Institution Name'],\n",
        "            \"Country\": university_info['Country'],\n",
        "            \"Overall SCORE\": university_info['Overall SCORE']\n",
        "        }\n",
        "    else:\n",
        "        result = \"Rank not found.\"\n",
        "\n",
        "    return result\n"
      ],
      "metadata": {
        "id": "akQUSkIGZC_p"
      },
      "execution_count": 10,
      "outputs": []
    },
    {
      "cell_type": "code",
      "source": [
        "import gradio as gr\n",
        "\n",
        "# Define the Gradio interface\n",
        "iface = gr.Interface(\n",
        "    fn=find_university_by_rank,\n",
        "    inputs=gr.Number(label=\"Enter the rank to search for:\"),\n",
        "    outputs=gr.JSON(label=\"University Information\"),\n",
        "    title=\"World University Rankings Search\",\n",
        "    description=\"Search for university information by rank using Binary Search (Decrease and Conquer algorithm).\"\n",
        ")\n",
        "\n",
        "# Launch the interface\n",
        "iface.launch()\n"
      ],
      "metadata": {
        "colab": {
          "base_uri": "https://localhost:8080/",
          "height": 645
        },
        "id": "DEIU4EYyZIaj",
        "outputId": "43ec4053-95b8-41cc-b9d1-6fef1d6420fe"
      },
      "execution_count": 11,
      "outputs": [
        {
          "output_type": "stream",
          "name": "stdout",
          "text": [
            "Setting queue=True in a Colab notebook requires sharing enabled. Setting `share=True` (you can turn this off by setting `share=False` in `launch()` explicitly).\n",
            "\n",
            "Colab notebook detected. To show errors in colab notebook, set debug=True in launch()\n",
            "Running on public URL: https://76939ae006395721ac.gradio.live\n",
            "\n",
            "This share link expires in 72 hours. For free permanent hosting and GPU upgrades, run `gradio deploy` from Terminal to deploy to Spaces (https://huggingface.co/spaces)\n"
          ]
        },
        {
          "output_type": "display_data",
          "data": {
            "text/plain": [
              "<IPython.core.display.HTML object>"
            ],
            "text/html": [
              "<div><iframe src=\"https://76939ae006395721ac.gradio.live\" width=\"100%\" height=\"500\" allow=\"autoplay; camera; microphone; clipboard-read; clipboard-write;\" frameborder=\"0\" allowfullscreen></iframe></div>"
            ]
          },
          "metadata": {}
        },
        {
          "output_type": "execute_result",
          "data": {
            "text/plain": []
          },
          "metadata": {},
          "execution_count": 11
        }
      ]
    }
  ]
}